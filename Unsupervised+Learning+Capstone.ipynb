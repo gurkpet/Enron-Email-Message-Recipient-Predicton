{
 "cells": [
  {
   "cell_type": "code",
   "execution_count": 1,
   "metadata": {
    "collapsed": true
   },
   "outputs": [],
   "source": [
    "import pandas as pd\n",
    "import os\n",
    "import email\n",
    "import time\n",
    "import csv\n",
    "\n",
    "#unique delim to separate columns without messing up content\n",
    "DELIMETER = chr(255)"
   ]
  },
  {
   "cell_type": "code",
   "execution_count": 24,
   "metadata": {
    "collapsed": true
   },
   "outputs": [],
   "source": [
    "root_path = '/home/peter/Desktop/maildir'\n",
    "saved_file = '/home/peter/Desktop/processed enron emails.csv'\n",
    "testing_batch = False"
   ]
  },
  {
   "cell_type": "code",
   "execution_count": 25,
   "metadata": {
    "scrolled": true
   },
   "outputs": [
    {
     "name": "stdout",
     "output_type": "stream",
     "text": [
      "Starting. 04:09:52\n",
      "Done! 06:59:56 06:59:56\n"
     ]
    }
   ],
   "source": [
    "#list for holding file paths\n",
    "list_of_files = []\n",
    "\n",
    "#safety check to see if the file has been created so I don't overwrite a finished file\n",
    "already_processed = os.path.isfile(saved_file) \n",
    "\n",
    "#get the path for all the email files\n",
    "for path, subdirs, files in os.walk(root_path):\n",
    "    for name in files:\n",
    "        list_of_files.append(os.path.join(path, name))\n",
    "\n",
    "email_count = len(list_of_files)\n",
    "#caluculate 1% of the number of files, used for progress report printing.\n",
    "onepcofemail = (email_count//100)\n",
    "        \n",
    "#if no file already exists start the writing process\n",
    "if not already_processed:\n",
    "    \n",
    "    #create dataframe to store data to be written\n",
    "    emails = pd.DataFrame()\n",
    "    print('Starting. {}'.format(time.strftime(\"%I:%M:%S\")))\n",
    "    \n",
    "    #counter for testing batches\n",
    "    x = 0\n",
    "    \n",
    "    #iterrate through all the files found\n",
    "    for i, myfile in enumerate(list_of_files):\n",
    "        \n",
    "        #if running a testing session to break before reading all file to inspect the saved csv\n",
    "        if x > 6000 and testing_batch: break\n",
    "        \n",
    "        #read individual email file\n",
    "        with open(myfile, 'r', encoding='utf-8', errors='replace') as filepath:\n",
    "            #read in the email\n",
    "            message=email.message_from_string(filepath.read())\n",
    "\n",
    "            #save the important components\n",
    "            emails.loc[i,'Message-ID']=message['Message-ID']\n",
    "            emails.loc[i,'from']=message['from']\n",
    "            emails.loc[i,'subject']=message['subject']\n",
    "            emails.loc[i,'to']=message['to']\n",
    "            emails.loc[i,'cc']=message['cc']\n",
    "            emails.loc[i,'bcc']=message['Bcc']\n",
    "            emails.loc[i,'date']=message['date']\n",
    "            emails.loc[i,'file']=message['X-FileName']\n",
    "            \n",
    "            #check that the body is one or multiple sections and save it\n",
    "            if message.is_multipart():\n",
    "                for payload in message.get_payload():\n",
    "                    print(payload.get_payload())\n",
    "                    string = ''\n",
    "                    string = string + payload.get_payload()\n",
    "                    emails.loc[i,'body'] = string\n",
    "            else:\n",
    "                emails.loc[i,'body'] =  message.get_payload()\n",
    "            \n",
    "        #append entry to the csv file\n",
    "        with open(saved_file, 'a') as f:\n",
    "            #if this is the first entry use the headers, if not, dont.True\n",
    "            if i == 0: emails.to_csv(f, header=emails.columns, index = False, sep=DELIMETER)\n",
    "            else: emails.to_csv(f, header=None, index = False, sep=DELIMETER)\n",
    "\n",
    "        #clear the dataframe to save memory\n",
    "        emails = pd.DataFrame()        \n",
    "\n",
    "        #print statement updating progress report\n",
    "        if i % onepcofemail == 0: \n",
    "            print('{}% finished. {}'.format(i//onepcofemail, time.strftime(\"%I:%M:%S\")), end=\"\\r\")\n",
    "\n",
    "        #itterate counter for testing batches\n",
    "        x = x+1\n",
    "            \n",
    "                        \n",
    "    #process complete\n",
    "    print('Done! {}'.format(time.strftime(\"%I:%M:%S\")))\n",
    "\n",
    "#prints if the file already exists and there is no need to process the individual emails into a csv\n",
    "else: print('****************File Previously Processed, Delete File to Process Again********************')"
   ]
  },
  {
   "cell_type": "code",
   "execution_count": 22,
   "metadata": {},
   "outputs": [],
   "source": [
    "# print('Loading File. {}'.format(time.strftime(\"%I:%M:%S\")))\n",
    "# df = pd.read_csv(saved_file, sep=DELIMETER, engine='python')\n",
    "# print('File Loaded! {}'.format(time.strftime(\"%I:%M:%S\")))"
   ]
  },
  {
   "cell_type": "code",
   "execution_count": null,
   "metadata": {
    "collapsed": true
   },
   "outputs": [],
   "source": []
  }
 ],
 "metadata": {
  "kernelspec": {
   "display_name": "Python 3",
   "language": "python",
   "name": "python3"
  },
  "language_info": {
   "codemirror_mode": {
    "name": "ipython",
    "version": 3
   },
   "file_extension": ".py",
   "mimetype": "text/x-python",
   "name": "python",
   "nbconvert_exporter": "python",
   "pygments_lexer": "ipython3",
   "version": "3.6.1"
  }
 },
 "nbformat": 4,
 "nbformat_minor": 2
}
